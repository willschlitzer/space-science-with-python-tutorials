{
 "cells": [
  {
   "cell_type": "code",
   "execution_count": 1,
   "id": "4df8eaa7-7879-44da-a8a6-dbb40db1f38d",
   "metadata": {},
   "outputs": [],
   "source": [
    "import spiceypy\n",
    "import datetime\n",
    "import math"
   ]
  },
  {
   "cell_type": "code",
   "execution_count": 2,
   "id": "9fce856c-f619-47f6-8cd0-81a1a0913b29",
   "metadata": {},
   "outputs": [],
   "source": [
    "spiceypy.furnsh(\"../kernels/lsk/naif0012.tls\")\n",
    "spiceypy.furnsh(\"../kernels/spk/de432s.bsp\")"
   ]
  },
  {
   "cell_type": "code",
   "execution_count": 3,
   "id": "42789ddd-c9e1-4bc7-95d9-82df3519fcb7",
   "metadata": {},
   "outputs": [
    {
     "data": {
      "text/plain": [
       "'2022-12-14T00:00:00'"
      ]
     },
     "execution_count": 3,
     "metadata": {},
     "output_type": "execute_result"
    }
   ],
   "source": [
    "date_today = datetime.datetime.today()\n",
    "date_today_str = date_today.strftime(\"%Y-%m-%dT00:00:00\")\n",
    "date_today_str"
   ]
  },
  {
   "cell_type": "code",
   "execution_count": 9,
   "id": "ef423755-d48b-4e04-b0aa-2177a2244d62",
   "metadata": {},
   "outputs": [
    {
     "data": {
      "text/plain": [
       "724248069.1834058"
      ]
     },
     "execution_count": 9,
     "metadata": {},
     "output_type": "execute_result"
    }
   ],
   "source": [
    "et_today_midnight = spiceypy.utc2et(date_today_str)\n",
    "et_today_midnight"
   ]
  },
  {
   "cell_type": "code",
   "execution_count": 5,
   "id": "ed5de6cb-1dc3-45a9-82c2-f3b525cf3679",
   "metadata": {},
   "outputs": [
    {
     "data": {
      "text/plain": [
       "array([ 2.14136886e+07,  1.45704042e+08, -8.08256439e+03, -2.99493984e+01,\n",
       "        4.22754412e+00,  1.99147018e-04])"
      ]
     },
     "execution_count": 5,
     "metadata": {},
     "output_type": "execute_result"
    }
   ],
   "source": [
    "earth_state_wrt_sun, earth_sun_light_time = spiceypy.spkgeo(\n",
    "    targ=399, et=et_today_midnight, ref=\"ECLIPJ2000\", obs=10\n",
    ")\n",
    "earth_state_wrt_sun"
   ]
  },
  {
   "cell_type": "code",
   "execution_count": 6,
   "id": "57d8863b-bb6e-4cab-9f1c-e17f55c1f7fd",
   "metadata": {},
   "outputs": [
    {
     "data": {
      "text/plain": [
       "147269189.1919076"
      ]
     },
     "execution_count": 6,
     "metadata": {},
     "output_type": "execute_result"
    }
   ],
   "source": [
    "earth_sun_distance = math.sqrt(\n",
    "    earth_state_wrt_sun[0] ** 2\n",
    "    + earth_state_wrt_sun[1] ** 2\n",
    "    + earth_state_wrt_sun[2] ** 2\n",
    ")\n",
    "earth_sun_distance"
   ]
  },
  {
   "cell_type": "code",
   "execution_count": 7,
   "id": "5c4786cb-c320-4538-bcca-807206438314",
   "metadata": {},
   "outputs": [
    {
     "data": {
      "text/plain": [
       "0.9844337261471142"
      ]
     },
     "execution_count": 7,
     "metadata": {},
     "output_type": "execute_result"
    }
   ],
   "source": [
    "earth_sun_distance_au = spiceypy.convrt(x=earth_sun_distance, inunit=\"km\", outunit=\"au\")\n",
    "earth_sun_distance_au"
   ]
  }
 ],
 "metadata": {
  "kernelspec": {
   "display_name": "Python 3 (ipykernel)",
   "language": "python",
   "name": "python3"
  },
  "language_info": {
   "codemirror_mode": {
    "name": "ipython",
    "version": 3
   },
   "file_extension": ".py",
   "mimetype": "text/x-python",
   "name": "python",
   "nbconvert_exporter": "python",
   "pygments_lexer": "ipython3",
   "version": "3.9.16"
  }
 },
 "nbformat": 4,
 "nbformat_minor": 5
}
