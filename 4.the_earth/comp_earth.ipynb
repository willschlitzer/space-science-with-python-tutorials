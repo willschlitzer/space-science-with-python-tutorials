{
 "cells": [
  {
   "attachments": {},
   "cell_type": "markdown",
   "id": "6a512857",
   "metadata": {},
   "source": [
    "Import the modules"
   ]
  },
  {
   "cell_type": "code",
   "execution_count": 1,
   "id": "4df8eaa7-7879-44da-a8a6-dbb40db1f38d",
   "metadata": {},
   "outputs": [],
   "source": [
    "import spiceypy\n",
    "import datetime\n",
    "import math"
   ]
  },
  {
   "attachments": {},
   "cell_type": "markdown",
   "id": "dda257d4",
   "metadata": {},
   "source": [
    "Load the SPICE kernels"
   ]
  },
  {
   "cell_type": "code",
   "execution_count": 2,
   "id": "9fce856c-f619-47f6-8cd0-81a1a0913b29",
   "metadata": {},
   "outputs": [],
   "source": [
    "# naif0012 calculates leap seconds for UTC to ET\n",
    "spiceypy.furnsh(\"../kernels/lsk/naif0012.tls\")\n",
    "# de432s calculates locations of planet\n",
    "spiceypy.furnsh(\"../kernels/spk/de432s.bsp\")"
   ]
  },
  {
   "attachments": {},
   "cell_type": "markdown",
   "id": "760613ea",
   "metadata": {},
   "source": [
    "\n",
    "Set the date"
   ]
  },
  {
   "cell_type": "code",
   "execution_count": 3,
   "id": "42789ddd-c9e1-4bc7-95d9-82df3519fcb7",
   "metadata": {},
   "outputs": [
    {
     "data": {
      "text/plain": [
       "'2023-06-11T00:00:00'"
      ]
     },
     "execution_count": 3,
     "metadata": {},
     "output_type": "execute_result"
    }
   ],
   "source": [
    "date_today = datetime.datetime.today()\n",
    "# Sets date string for midnight on current day\n",
    "date_today_str = date_today.strftime(\"%Y-%m-%dT00:00:00\")\n",
    "date_today_str"
   ]
  },
  {
   "attachments": {},
   "cell_type": "markdown",
   "id": "ff9dc785",
   "metadata": {},
   "source": [
    "Translate the date string to ephemeris time"
   ]
  },
  {
   "cell_type": "code",
   "execution_count": 4,
   "id": "ef423755-d48b-4e04-b0aa-2177a2244d62",
   "metadata": {},
   "outputs": [
    {
     "data": {
      "text/plain": [
       "739713669.1846703"
      ]
     },
     "execution_count": 4,
     "metadata": {},
     "output_type": "execute_result"
    }
   ],
   "source": [
    "et_today_midnight = spiceypy.utc2et(date_today_str)\n",
    "et_today_midnight"
   ]
  },
  {
   "attachments": {},
   "cell_type": "markdown",
   "id": "61dcf5c8",
   "metadata": {},
   "source": [
    "Get vector between two bodies and the light time between them"
   ]
  },
  {
   "cell_type": "code",
   "execution_count": 5,
   "id": "ed5de6cb-1dc3-45a9-82c2-f3b525cf3679",
   "metadata": {},
   "outputs": [
    {
     "data": {
      "text/plain": [
       "array([-2.75975038e+07, -1.49351508e+08,  8.24250971e+03,  2.88065511e+01,\n",
       "       -5.53815568e+00, -7.01967423e-04])"
      ]
     },
     "execution_count": 5,
     "metadata": {},
     "output_type": "execute_result"
    }
   ],
   "source": [
    "# earth_state_wrt_sun: vector of earth to sun\n",
    "# earth_sun_light_time: light time between two bodies\n",
    "earth_state_wrt_sun, earth_sun_light_time = spiceypy.spkgeo(\n",
    "    # Use SPICE integer ID codes for planetary bodies\n",
    "    # targ: observed body\n",
    "    # obs: location where the observation is taking place\n",
    "    targ=399,\n",
    "    et=et_today_midnight,\n",
    "    ref=\"ECLIPJ2000\",\n",
    "    obs=10,\n",
    ")\n",
    "# Array of Euclidean distances and speeds\n",
    "earth_state_wrt_sun"
   ]
  },
  {
   "attachments": {},
   "cell_type": "markdown",
   "id": "7a914c0d",
   "metadata": {},
   "source": [
    "Perform Pythagorean function on the distances in 3 axes"
   ]
  },
  {
   "cell_type": "code",
   "execution_count": 6,
   "id": "57d8863b-bb6e-4cab-9f1c-e17f55c1f7fd",
   "metadata": {},
   "outputs": [
    {
     "data": {
      "text/plain": [
       "151879870.8291622"
      ]
     },
     "execution_count": 6,
     "metadata": {},
     "output_type": "execute_result"
    }
   ],
   "source": [
    "# Find the overall distance given the X, Y, and Z distances\n",
    "earth_sun_distance = math.sqrt(\n",
    "    earth_state_wrt_sun[0] ** 2\n",
    "    + earth_state_wrt_sun[1] ** 2\n",
    "    + earth_state_wrt_sun[2] ** 2\n",
    ")\n",
    "earth_sun_distance"
   ]
  },
  {
   "attachments": {},
   "cell_type": "markdown",
   "id": "253f242a",
   "metadata": {},
   "source": [
    "Convert the distance from km to AU"
   ]
  },
  {
   "cell_type": "code",
   "execution_count": 7,
   "id": "5c4786cb-c320-4538-bcca-807206438314",
   "metadata": {},
   "outputs": [
    {
     "data": {
      "text/plain": [
       "1.0152542292621678"
      ]
     },
     "execution_count": 7,
     "metadata": {},
     "output_type": "execute_result"
    }
   ],
   "source": [
    "earth_sun_distance_au = spiceypy.convrt(x=earth_sun_distance, inunit=\"km\", outunit=\"au\")\n",
    "earth_sun_distance_au"
   ]
  }
 ],
 "metadata": {
  "kernelspec": {
   "display_name": "Python 3 (ipykernel)",
   "language": "python",
   "name": "python3"
  },
  "language_info": {
   "codemirror_mode": {
    "name": "ipython",
    "version": 3
   },
   "file_extension": ".py",
   "mimetype": "text/x-python",
   "name": "python",
   "nbconvert_exporter": "python",
   "pygments_lexer": "ipython3",
   "version": "3.10.10"
  }
 },
 "nbformat": 4,
 "nbformat_minor": 5
}
