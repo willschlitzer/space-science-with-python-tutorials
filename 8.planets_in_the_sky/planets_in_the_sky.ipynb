{
 "cells": [
  {
   "cell_type": "code",
   "execution_count": 1,
   "metadata": {},
   "outputs": [],
   "source": [
    "import spiceypy\n",
    "import datetime\n",
    "import numpy as np\n",
    "import pandas as pd\n",
    "from matplotlib import pyplot as plt\n",
    "\n",
    "# Load kernels using the kernel_meta.txt file\n",
    "spiceypy.furnsh(\"kernel_meta.txt\")"
   ]
  },
  {
   "cell_type": "markdown",
   "metadata": {},
   "source": [
    "Set the start and end dates"
   ]
  },
  {
   "cell_type": "code",
   "execution_count": 2,
   "metadata": {
    "collapsed": false,
    "jupyter": {
     "outputs_hidden": false
    }
   },
   "outputs": [],
   "source": [
    "# Datetime object for the start and end times\n",
    "init_time_utc = datetime.datetime(year=2021, month=10, day=1)\n",
    "end_time_utc = datetime.datetime(year=2022, month=6, day=1)\n",
    "\n",
    "# Convert datetime objects to strings\n",
    "init_time_utc_str = init_time_utc.strftime(\"%Y-%m-%dT%H:%M:%S\")\n",
    "end_time_utc_str = end_time_utc.strftime(\"%Y-%m-%dT%H:%M:%S\")\n",
    "\n",
    "# Convert UTC datetime to ephemeris time\n",
    "init_time_et = spiceypy.utc2et(init_time_utc_str)\n",
    "end_time_et = spiceypy.utc2et(end_time_utc_str)\n",
    "\n",
    "# Number of seconds in an hour\n",
    "delta_hour_in_seconds = 3600\n",
    "\n",
    "# Create an array between the two dates with a step every hour\n",
    "time_interval_et = np.linspace(\n",
    "    start=init_time_et, stop=end_time_et, num=delta_hour_in_seconds\n",
    ")"
   ]
  },
  {
   "cell_type": "markdown",
   "metadata": {},
   "source": [
    "Create a pandas dataframe with the times for calculation"
   ]
  },
  {
   "cell_type": "code",
   "execution_count": 3,
   "metadata": {
    "collapsed": false,
    "jupyter": {
     "outputs_hidden": false
    }
   },
   "outputs": [],
   "source": [
    "# Create an empty pandas dataframe\n",
    "inner_solsys_df = pd.DataFrame()\n",
    "\n",
    "# Set the column ET that stores the ETs\n",
    "inner_solsys_df.loc[:, \"ET\"] = time_interval_et\n",
    "\n",
    "# Crate UTC column to set ETs back to UTC\n",
    "inner_solsys_df.loc[:, \"UTC\"] = inner_solsys_df[\"ET\"].apply(\n",
    "    lambda x: spiceypy.et2datetime(et=x)\n",
    ")"
   ]
  },
  {
   "cell_type": "code",
   "execution_count": 4,
   "metadata": {
    "collapsed": false,
    "jupyter": {
     "outputs_hidden": false
    }
   },
   "outputs": [],
   "source": [
    "# NAIF Guide\n",
    "## Earth : 399\n",
    "## Sun : 10\n",
    "## Venus : 299\n",
    "## Moon : 301\n",
    "\n",
    "inner_solsys_df.loc[:, \"EARTH_VEN2SUN_ANGLE\"] = inner_solsys_df[\"ET\"].apply(\n",
    "    lambda x: np.degrees(\n",
    "        spiceypy.phaseq(et=x, target=\"399\", illmn=\"10\", obsrvr=\"299\", abcorr=\"LT+S\")\n",
    "    )\n",
    ")\n",
    "\n",
    "inner_solsys_df.loc[:, \"EARTH_MOON2SUN_ANGLE\"] = inner_solsys_df[\"ET\"].apply(\n",
    "    lambda x: np.degrees(\n",
    "        spiceypy.phaseq(et=x, target=\"399\", illmn=\"10\", obsrvr=\"301\", abcorr=\"LT+S\")\n",
    "    )\n",
    ")\n",
    "\n",
    "inner_solsys_df.loc[:, \"EARTH_MOON2VEN_ANGLE\"] = inner_solsys_df[\"ET\"].apply(\n",
    "    lambda x: np.degrees(\n",
    "        spiceypy.phaseq(et=x, target=\"399\", illmn=\"299\", obsrvr=\"301\", abcorr=\"LT+S\")\n",
    "    )\n",
    ")"
   ]
  },
  {
   "cell_type": "code",
   "execution_count": null,
   "metadata": {},
   "outputs": [],
   "source": []
  }
 ],
 "metadata": {
  "kernelspec": {
   "display_name": "Python 3 (ipykernel)",
   "language": "python",
   "name": "python3"
  },
  "language_info": {
   "codemirror_mode": {
    "name": "ipython",
    "version": 3
   },
   "file_extension": ".py",
   "mimetype": "text/x-python",
   "name": "python",
   "nbconvert_exporter": "python",
   "pygments_lexer": "ipython3",
   "version": "3.9.16"
  },
  "vscode": {
   "interpreter": {
    "hash": "115288954dbb7cbf8f1621ff7a46a51f44e4a70c4b37d2bae3a5250ddba6f328"
   }
  }
 },
 "nbformat": 4,
 "nbformat_minor": 4
}
