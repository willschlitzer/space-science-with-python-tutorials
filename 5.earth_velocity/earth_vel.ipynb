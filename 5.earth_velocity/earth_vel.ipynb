{
 "cells": [
  {
   "cell_type": "code",
   "execution_count": 8,
   "id": "4df8eaa7-7879-44da-a8a6-dbb40db1f38d",
   "metadata": {},
   "outputs": [],
   "source": [
    "import spiceypy\n",
    "import datetime\n",
    "import numpy as np"
   ]
  },
  {
   "cell_type": "code",
   "execution_count": 9,
   "id": "9fce856c-f619-47f6-8cd0-81a1a0913b29",
   "metadata": {},
   "outputs": [],
   "source": [
    "spiceypy.furnsh(\"../kernels/lsk/naif0012.tls\")\n",
    "spiceypy.furnsh(\"../kernels/spk/de432s.bsp\")\n",
    "spiceypy.furnsh(\"../kernels/pck/gm_de431.tpc\")"
   ]
  },
  {
   "cell_type": "code",
   "execution_count": 10,
   "id": "42789ddd-c9e1-4bc7-95d9-82df3519fcb7",
   "metadata": {},
   "outputs": [],
   "source": [
    "date_today = datetime.datetime.today()\n",
    "date_today_str = date_today.strftime(\"%Y-%m-%dT00:00:00\")\n",
    "et_today_midnight = spiceypy.utc2et(date_today_str)\n",
    "earth_state_wrt_sun, earth_sun_light_time = spiceypy.spkgeo(\n",
    "    targ=399, et=et_today_midnight, ref=\"ECLIPJ2000\", obs=10\n",
    ")"
   ]
  },
  {
   "cell_type": "code",
   "execution_count": 11,
   "id": "ef423755-d48b-4e04-b0aa-2177a2244d62",
   "metadata": {},
   "outputs": [
    {
     "data": {
      "text/plain": "30.246298829600995"
     },
     "execution_count": 11,
     "metadata": {},
     "output_type": "execute_result"
    }
   ],
   "source": [
    "# Create a numpy array of the Earth location information\n",
    "earth_state_wrt_sun = np.array(earth_state_wrt_sun)\n",
    "# Compute the distance of the Earth from the sun (km)\n",
    "earth_sun_distance = np.linalg.norm(earth_state_wrt_sun[:3])\n",
    "# Earth orbit velocity (km/s)\n",
    "earth_orb_speed_wrt_sun = np.linalg.norm(earth_state_wrt_sun[3:])\n",
    "earth_orb_speed_wrt_sun"
   ]
  },
  {
   "cell_type": "code",
   "execution_count": 12,
   "id": "ba4bf326-bbd9-4536-99dd-f4c8c06e2a48",
   "metadata": {},
   "outputs": [
    {
     "data": {
      "text/plain": "30.01925218091564"
     },
     "execution_count": 12,
     "metadata": {},
     "output_type": "execute_result"
    }
   ],
   "source": [
    "# Extract an array with the mass times the Gravity constant of the sun (GM)\n",
    "_, GM_SUN = spiceypy.bodvcd(bodyid=10, item=\"GM\", maxn=1)\n",
    "# Define a function to determine velocity of an orbiting body\n",
    "v_orb_func = lambda gm, r: np.sqrt(gm / r)\n",
    "# Define the theoretical velocity of a body orbiting the sun\n",
    "earth_orbit_speed_speed_wrt_sun_theory = v_orb_func(gm=GM_SUN[0], r=earth_sun_distance)\n",
    "earth_orbit_speed_speed_wrt_sun_theory"
   ]
  },
  {
   "cell_type": "code",
   "execution_count": 13,
   "outputs": [],
   "source": [
    "# Array of Earth's position values\n",
    "earth_position_wrt_sun = earth_state_wrt_sun[:3]\n",
    "# Convert distance values to AU\n",
    "earth_position_wrt_sun_normed = earth_position_wrt_sun / earth_sun_distance\n",
    "# Create array of position at autumnal equinox, x=1, y,z=0\n",
    "earth_position_wrt_sun_normed_autumn = np.array([1.0, 0.0, 0.0])"
   ],
   "metadata": {
    "collapsed": false
   }
  },
  {
   "cell_type": "code",
   "execution_count": 14,
   "outputs": [
    {
     "data": {
      "text/plain": "81.63926269232316"
     },
     "execution_count": 14,
     "metadata": {},
     "output_type": "execute_result"
    }
   ],
   "source": [
    "# Compute the current angular distance from the Earth's location at the autumnal equinox\n",
    "ang_dist_deg = np.degrees(\n",
    "    np.arccos(\n",
    "        np.dot(earth_position_wrt_sun_normed, earth_position_wrt_sun_normed_autumn)\n",
    "    )\n",
    ")\n",
    "ang_dist_deg"
   ],
   "metadata": {
    "collapsed": false
   }
  },
  {
   "cell_type": "code",
   "execution_count": 14,
   "outputs": [],
   "source": [],
   "metadata": {
    "collapsed": false
   }
  }
 ],
 "metadata": {
  "kernelspec": {
   "display_name": "Python 3 (ipykernel)",
   "language": "python",
   "name": "python3"
  },
  "language_info": {
   "codemirror_mode": {
    "name": "ipython",
    "version": 3
   },
   "file_extension": ".py",
   "mimetype": "text/x-python",
   "name": "python",
   "nbconvert_exporter": "python",
   "pygments_lexer": "ipython3",
   "version": "3.9.16"
  }
 },
 "nbformat": 4,
 "nbformat_minor": 5
}
