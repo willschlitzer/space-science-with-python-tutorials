{
 "cells": [
  {
   "cell_type": "code",
   "execution_count": 2,
   "id": "4df8eaa7-7879-44da-a8a6-dbb40db1f38d",
   "metadata": {},
   "outputs": [],
   "source": [
    "# Import modules\n",
    "\n",
    "import spiceypy\n",
    "import datetime\n",
    "import numpy as np\n",
    "\n",
    "# Load the SPICE kernels\n",
    "\n",
    "spiceypy.furnsh(\"../kernels/lsk/naif0012.tls\")\n",
    "spiceypy.furnsh(\"../kernels/spk/de432s.bsp\")\n",
    "# Kernel for gravitational parameters\n",
    "spiceypy.furnsh(\"../kernels/pck/gm_de431.tpc\")"
   ]
  },
  {
   "attachments": {},
   "cell_type": "markdown",
   "id": "44d40fa7",
   "metadata": {},
   "source": [
    "Get the location of the Earth relative to the sun"
   ]
  },
  {
   "cell_type": "code",
   "execution_count": 8,
   "id": "9fce856c-f619-47f6-8cd0-81a1a0913b29",
   "metadata": {},
   "outputs": [
    {
     "name": "stdout",
     "output_type": "stream",
     "text": [
      "2023-06-12T00:00:00\n",
      "[-2.51047034e+07 -1.49808876e+08  8.17376334e+03  2.88957915e+01\n",
      " -5.04873320e+00 -8.79847997e-04]\n"
     ]
    }
   ],
   "source": [
    "date_today = datetime.datetime.today()\n",
    "date_today_str = date_today.strftime(\"%Y-%m-%dT00:00:00\")\n",
    "et_today_midnight = spiceypy.utc2et(date_today_str)\n",
    "# Get 6-dimensional vector position of Earth\n",
    "earth_state_wrt_sun, earth_sun_light_time = spiceypy.spkgeo(\n",
    "    targ=399, et=et_today_midnight, ref=\"ECLIPJ2000\", obs=10\n",
    ")\n",
    "\n",
    "# print(date_today_str)\n",
    "# print(earth_state_wrt_sun)"
   ]
  },
  {
   "attachments": {},
   "cell_type": "markdown",
   "id": "9e7a4bc6",
   "metadata": {},
   "source": [
    "Find the distance and velocity of the Earth"
   ]
  },
  {
   "cell_type": "code",
   "execution_count": 9,
   "id": "ef423755-d48b-4e04-b0aa-2177a2244d62",
   "metadata": {},
   "outputs": [
    {
     "name": "stdout",
     "output_type": "stream",
     "text": [
      "151897812.94880846\n",
      "29.333538339020805\n"
     ]
    }
   ],
   "source": [
    "# Create a numpy array of the Earth location information\n",
    "earth_state_wrt_sun = np.array(earth_state_wrt_sun)\n",
    "# Compute the distance of the Earth from the sun (km)\n",
    "earth_sun_distance = np.linalg.norm(earth_state_wrt_sun[:3])\n",
    "print(earth_sun_distance)\n",
    "# Earth orbit velocity (km/s)\n",
    "earth_orb_speed_wrt_sun = np.linalg.norm(earth_state_wrt_sun[3:])\n",
    "print(earth_orb_speed_wrt_sun)"
   ]
  },
  {
   "cell_type": "code",
   "execution_count": 5,
   "id": "ba4bf326-bbd9-4536-99dd-f4c8c06e2a48",
   "metadata": {},
   "outputs": [
    {
     "data": {
      "text/plain": [
       "29.55834110744839"
      ]
     },
     "execution_count": 5,
     "metadata": {},
     "output_type": "execute_result"
    }
   ],
   "source": [
    "# Extract an array with the mass times the Gravity constant of the sun (GM)\n",
    "_, GM_SUN = spiceypy.bodvcd(bodyid=10, item=\"GM\", maxn=1)\n",
    "# Define a function to determine velocity of an orbiting body\n",
    "v_orb_func = lambda gm, r: np.sqrt(gm / r)\n",
    "# Define the theoretical velocity of a body orbiting the sun\n",
    "earth_orbit_speed_speed_wrt_sun_theory = v_orb_func(gm=GM_SUN[0], r=earth_sun_distance)\n",
    "\n",
    "print(earth_orbit_speed_speed_wrt_sun_theory)"
   ]
  },
  {
   "cell_type": "code",
   "execution_count": 6,
   "metadata": {
    "collapsed": false
   },
   "outputs": [],
   "source": [
    "# Array of Earth's position values\n",
    "earth_position_wrt_sun = earth_state_wrt_sun[:3]\n",
    "# Convert distance values to AU\n",
    "earth_position_wrt_sun_normed = earth_position_wrt_sun / earth_sun_distance\n",
    "# Create array of position at autumnal equinox, x=1, y=0,z=0\n",
    "earth_position_wrt_sun_normed_autumn = np.array([1.0, 0.0, 0.0])"
   ]
  },
  {
   "cell_type": "code",
   "execution_count": 7,
   "metadata": {
    "collapsed": false
   },
   "outputs": [
    {
     "data": {
      "text/plain": [
       "99.51313071886523"
      ]
     },
     "execution_count": 7,
     "metadata": {},
     "output_type": "execute_result"
    }
   ],
   "source": [
    "# Compute the current angular distance from the Earth's location at the autumnal equinox\n",
    "ang_dist_deg = np.degrees(\n",
    "    np.arccos(\n",
    "        np.dot(earth_position_wrt_sun_normed, earth_position_wrt_sun_normed_autumn)\n",
    "    )\n",
    ")\n",
    "ang_dist_deg"
   ]
  },
  {
   "cell_type": "code",
   "execution_count": null,
   "metadata": {
    "collapsed": false
   },
   "outputs": [],
   "source": []
  }
 ],
 "metadata": {
  "kernelspec": {
   "display_name": "Python 3 (ipykernel)",
   "language": "python",
   "name": "python3"
  },
  "language_info": {
   "codemirror_mode": {
    "name": "ipython",
    "version": 3
   },
   "file_extension": ".py",
   "mimetype": "text/x-python",
   "name": "python",
   "nbconvert_exporter": "python",
   "pygments_lexer": "ipython3",
   "version": "3.10.10"
  }
 },
 "nbformat": 4,
 "nbformat_minor": 5
}
