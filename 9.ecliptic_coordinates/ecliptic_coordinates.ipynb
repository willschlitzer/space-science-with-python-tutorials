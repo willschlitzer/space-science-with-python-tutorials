{
 "cells": [
  {
   "attachments": {},
   "cell_type": "markdown",
   "metadata": {},
   "source": [
    "Import modules and set the datetime"
   ]
  },
  {
   "cell_type": "code",
   "execution_count": 1,
   "metadata": {},
   "outputs": [],
   "source": [
    "import spiceypy\n",
    "import datetime\n",
    "import numpy as np\n",
    "import pandas as pd\n",
    "from matplotlib import pyplot as plt\n",
    "\n",
    "# Load kernels using the kernel_meta.txt file\n",
    "spiceypy.furnsh(\"kernel_meta.txt\")\n",
    "\n",
    "# Create an initial datetime object\n",
    "datetime_utc = datetime.datetime.now().strftime(\"%Y-%m-%dT%H:%M:%S\")\n",
    "\n",
    "# Convert datetime to ET using SPICE function utc2et\n",
    "datetime_et = spiceypy.utc2et(datetime_utc)"
   ]
  }
 ],
 "metadata": {
  "kernelspec": {
   "display_name": "Python 3 (ipykernel)",
   "language": "python",
   "name": "python3"
  },
  "language_info": {
   "codemirror_mode": {
    "name": "ipython",
    "version": 3
   },
   "file_extension": ".py",
   "mimetype": "text/x-python",
   "name": "python",
   "nbconvert_exporter": "python",
   "pygments_lexer": "ipython3",
   "version": "3.10.10"
  },
  "vscode": {
   "interpreter": {
    "hash": "115288954dbb7cbf8f1621ff7a46a51f44e4a70c4b37d2bae3a5250ddba6f328"
   }
  }
 },
 "nbformat": 4,
 "nbformat_minor": 4
}
