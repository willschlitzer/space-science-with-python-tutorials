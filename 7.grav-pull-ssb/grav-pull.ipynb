{
 "cells": [
  {
   "cell_type": "code",
   "execution_count": null,
   "metadata": {
    "collapsed": true
   },
   "outputs": [],
   "source": [
    "import spiceypy\n",
    "import datetime\n",
    "import numpy as np\n",
    "import pandas as pd\n",
    "from matplotlib import pyplot as plt\n",
    "\n",
    "# Load kernels using the kernel_meta.txt file\n",
    "spiceypy.furnsh(\"kernel_meta.txt\")"
   ]
  },
  {
   "attachments": {},
   "cell_type": "markdown",
   "metadata": {
    "collapsed": false
   },
   "source": [
    "Set the start and end dates for the plot"
   ]
  },
  {
   "cell_type": "code",
   "execution_count": null,
   "metadata": {
    "collapsed": false
   },
   "outputs": [],
   "source": [
    "# Datetime object for the start\n",
    "init_time_utc = datetime.datetime(year=2000, month=1, day=1, hour=0, minute=0, second=0)\n",
    "\n",
    "# Number of days to calculate\n",
    "delta_days = 10000\n",
    "\n",
    "# Initial datetime object with added data\n",
    "end_time_utc = init_time_utc + datetime.timedelta(days=delta_days)\n",
    "\n",
    "# Convert datetime objects to strings\n",
    "init_time_utc_str = init_time_utc.strftime(\"%Y-%m-%dT%H:%M:%S\")\n",
    "end_time_utc_str = end_time_utc.strftime(\"%Y-%m-%dT%H:%M:%S\")\n",
    "\n",
    "# Convert UTC datetime to ephemeris time\n",
    "init_time_et = spiceypy.utc2et(init_time_utc_str)\n",
    "end_time_et = spiceypy.utc2et(end_time_utc_str)\n",
    "\n",
    "# Create an array between the two dates with the number of steps being the delta days\n",
    "time_interval_et = np.linspace(start=init_time_et, stop=end_time_et, num=delta_days)"
   ]
  },
  {
   "attachments": {},
   "cell_type": "markdown",
   "metadata": {
    "collapsed": false
   },
   "source": [
    "Get the radius of the sun"
   ]
  },
  {
   "cell_type": "code",
   "execution_count": null,
   "metadata": {
    "collapsed": false
   },
   "outputs": [],
   "source": [
    "_, radii_sun = spiceypy.bodvcd(bodyid=10, item=\"RADII\", maxn=3)\n",
    "\n",
    "# radii_sun is an array with 3 entries\n",
    "# retrieve first entry from array for the radius\n",
    "\n",
    "radius_sun = radii_sun[0]"
   ]
  },
  {
   "attachments": {},
   "cell_type": "markdown",
   "metadata": {
    "collapsed": false
   },
   "source": [
    "Create a dataframe of the sun's position relative to the barycenter"
   ]
  },
  {
   "cell_type": "code",
   "execution_count": null,
   "metadata": {
    "collapsed": false
   },
   "outputs": [],
   "source": [
    "# Create an empty pandas DataFrame\n",
    "solar_system_df = pd.DataFrame()\n",
    "\n",
    "# Add an array of ephemeris time\n",
    "solar_system_df.loc[:, \"ET\"] = time_interval_et\n",
    "\n",
    "# Add UTC times by converting from ET to UTC\n",
    "# Specify only the date, not the datetime\n",
    "solar_system_df.loc[:, \"UTC\"] = solar_system_df[\"ET\"].apply(\n",
    "    lambda x: spiceypy.et2datetime(et=x).date()\n",
    ")\n",
    "\n",
    "# Add the position of the barycenter with respect to the sun\n",
    "solar_system_df.loc[:, \"POS_SSB_WRT_SUN\"] = solar_system_df[\"ET\"].apply(\n",
    "    lambda x: spiceypy.spkgps(targ=0, et=x, ref=\"ECLIPJ2000\", obs=10)[0]\n",
    ")\n",
    "\n",
    "# Normalize the position of the barycenter to the radius of the sun\n",
    "solar_system_df.loc[:, \"POS_SSB_WRT_SUN_SCALED\"] = solar_system_df[\n",
    "    \"POS_SSB_WRT_SUN\"\n",
    "].apply(lambda x: x / radius_sun)\n",
    "\n",
    "# Calculate distance of barycenter from sun\n",
    "solar_system_df.loc[:, \"SSB_WRT_SUN_SCALED_DIST\"] = solar_system_df[\n",
    "    \"POS_SSB_WRT_SUN_SCALED\"\n",
    "].apply(lambda x: spiceypy.vnorm(x))"
   ]
  },
  {
   "attachments": {},
   "cell_type": "markdown",
   "metadata": {
    "collapsed": false
   },
   "source": [
    "Create arrays of planets' distance and phase angle from the barycenter"
   ]
  },
  {
   "cell_type": "code",
   "execution_count": null,
   "metadata": {
    "collapsed": false
   },
   "outputs": [],
   "source": [
    "# Create a dictionary of the planet IDs associated with the given planet\n",
    "NAIF_ID_DICT = {\"VEN\": 2, \"MAR\": 4, \"JUP\": 5, \"SAT\": 6, \"URA\": 7, \"NEP\": 8}\n",
    "# NAIF_ID_DICT = {\"JUP\": 5, \"SAT\": 6,}\n",
    "\n",
    "for planet_name_key in NAIF_ID_DICT:\n",
    "    planet_pos_col = f\"POS_{planet_name_key}_WRT_SUN\"\n",
    "    planet_angle_col = f\"PHASE_ANGLE_SUN_{planet_name_key}2SSB\"\n",
    "\n",
    "    planet_id = NAIF_ID_DICT[planet_name_key]\n",
    "\n",
    "    # Add the position of the planet with respect to the sun\n",
    "    solar_system_df.loc[:, planet_pos_col] = solar_system_df[\"ET\"].apply(\n",
    "        lambda x: spiceypy.spkgps(targ=planet_id, et=x, ref=\"ECLIPJ2000\", obs=10)[0]\n",
    "    )\n",
    "    # Calculate the phase angle of the planets from the barycenter\n",
    "    # Use np.degrees to convert it from radians\n",
    "    # Specify a single axis for the appropriate data\n",
    "    solar_system_df.loc[:, planet_angle_col] = solar_system_df.apply(\n",
    "        lambda x: np.degrees(spiceypy.vsep(x[planet_pos_col], x[\"POS_SSB_WRT_SUN\"])),\n",
    "        axis=1,\n",
    "    )"
   ]
  },
  {
   "attachments": {},
   "cell_type": "markdown",
   "metadata": {
    "collapsed": false
   },
   "source": [
    "Plot the movement of the barycenter relative to the phase angles"
   ]
  },
  {
   "cell_type": "code",
   "execution_count": null,
   "metadata": {
    "collapsed": false
   },
   "outputs": [],
   "source": [
    "plt.style.use(\"dark_background\")\n",
    "fig, (ax1, ax2, ax3, ax4, ax5, ax6) = plt.subplots(6, 1, sharex=True, figsize=(8, 10))\n",
    "\n",
    "for ax_f, planet_abr, planet_name in zip(\n",
    "    [ax1, ax2, ax3, ax4, ax5, ax6],\n",
    "    [\"VEN\", \"MAR\", \"JUP\", \"SAT\", \"URA\", \"NEP\"],\n",
    "    [\"Venus\", \"Mars\", \"Jupiter\", \"Saturn\", \"Uranus\", \"Neptune\"],\n",
    "):\n",
    "    ax_f.set_title(planet_name, color=\"tab:orange\")\n",
    "    ax_f.plot(\n",
    "        solar_system_df[\"UTC\"],\n",
    "        solar_system_df[\"SSB_WRT_SUN_SCALED_DIST\"],\n",
    "        color=\"tab:cyan\",\n",
    "    )\n",
    "\n",
    "    # Add label for y-axis\n",
    "    ax_f.set_ylabel(\"SSB Dist. in Sun Radii\", color=\"tab:cyan\")\n",
    "    # Set the color for the y-axis ticks to cyan\n",
    "    ax_f.tick_params(axis=\"y\", labelcolor=\"tab:cyan\")\n",
    "\n",
    "    # Change the x-axis limits to the min and max of the data\n",
    "    ax_f.set_xlim(min(solar_system_df[\"UTC\"]), max(solar_system_df[\"UTC\"]))\n",
    "    # Change the y-axis limits to the min and max of the solar radii\n",
    "    ax_f.set_ylim(0, 2)\n",
    "\n",
    "    # Create a second plot on top of the previous chart\n",
    "    # Use .twinx() method to copy x-axis\n",
    "    ax_f_add = ax_f.twinx()\n",
    "    # Plot the phase angles of the given planet\n",
    "    ax_f_add.plot(\n",
    "        solar_system_df[\"UTC\"],\n",
    "        solar_system_df[f\"PHASE_ANGLE_SUN_{planet_abr}2SSB\"],\n",
    "        color=\"tab:orange\",\n",
    "    )\n",
    "\n",
    "    # Add a label on the right side of the figure for the phase angle\n",
    "    ax_f_add.set_ylabel(\"Planet phase angle in deg.\", color=\"tab:orange\")\n",
    "    ax_f_add.tick_params(axis=\"y\", labelcolor=\"tab:orange\")\n",
    "\n",
    "    # Invert the y-axis\n",
    "    ax_f_add.invert_yaxis()\n",
    "    # Set the axis that the lowest (0-degrees) is at the top\n",
    "    ax_f_add.set_ylim(180, 0)\n",
    "\n",
    "    # Add grid lines along the x-axis\n",
    "    ax_f.grid(axis=\"x\", linestyle=\"dashed\", alpha=0.5)\n",
    "\n",
    "ax6.set_xlabel(\"Date / Year\")\n",
    "\n",
    "fig.tight_layout()\n",
    "\n",
    "plt.subplots_adjust(hspace=0.2)"
   ]
  },
  {
   "cell_type": "code",
   "execution_count": null,
   "metadata": {
    "collapsed": false
   },
   "outputs": [],
   "source": []
  }
 ],
 "metadata": {
  "kernelspec": {
   "display_name": "Python 3",
   "language": "python",
   "name": "python3"
  },
  "language_info": {
   "codemirror_mode": {
    "name": "ipython",
    "version": 3
   },
   "file_extension": ".py",
   "mimetype": "text/x-python",
   "name": "python",
   "nbconvert_exporter": "python",
   "pygments_lexer": "ipython3",
   "version": "3.10.10"
  }
 },
 "nbformat": 4,
 "nbformat_minor": 0
}
